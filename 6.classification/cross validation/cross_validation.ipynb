{
 "cells": [
  {
   "cell_type": "markdown",
   "metadata": {},
   "source": [
    "<h1 dir=rtl align=center style=\"line-height:200%;font-family:vazir;color:#0099cc\">\n",
    "<font face=\"vazir\" color=\"#0099cc\">\n",
    "اعتبارسنجی متقاطع (Cross-validation)\n",
    "</font>\n",
    "</h1>"
   ]
  },
  {
   "cell_type": "markdown",
   "metadata": {},
   "source": [
    "<h2 dir=rtl align=right style=\"line-height:200%;font-family:vazir;color:#0099cc\">\n",
    "<font face=\"vazir\" color=\"#0099cc\">\n",
    "روش Hold Out\n",
    "</font>\n",
    "</h2>"
   ]
  },
  {
   "cell_type": "code",
   "execution_count": 1,
   "metadata": {},
   "outputs": [
    {
     "name": "stdout",
     "output_type": "stream",
     "text": [
      "Train: [50, 10, 40, 20, 80, 90, 60] | Test: [30, 100, 70]\n"
     ]
    }
   ],
   "source": [
    "from sklearn.model_selection import train_test_split\n",
    "\n",
    "X = [10, 20, 30, 40, 50, 60, 70, 80, 90, 100]\n",
    "\n",
    "X_train, X_test = train_test_split(X, test_size=0.3, random_state=1)\n",
    "\n",
    "print('Train:', X_train, '| Test:', X_test)"
   ]
  },
  {
   "cell_type": "markdown",
   "metadata": {},
   "source": [
    "<h2 dir=rtl align=right style=\"line-height:200%;font-family:vazir;color:#0099cc\">\n",
    "<font face=\"vazir\" color=\"#0099cc\">\n",
    "روش K-Fold\n",
    "</font>\n",
    "</h2>"
   ]
  },
  {
   "cell_type": "code",
   "execution_count": 2,
   "metadata": {},
   "outputs": [
    {
     "name": "stdout",
     "output_type": "stream",
     "text": [
      "Train data ['c' 'd' 'e' 'f'] | Test data ['a' 'b']\n",
      "Train data ['a' 'b' 'e' 'f'] | Test data ['c' 'd']\n",
      "Train data ['a' 'b' 'c' 'd'] | Test data ['e' 'f']\n"
     ]
    }
   ],
   "source": [
    "from sklearn.model_selection import KFold\n",
    "import numpy as np\n",
    "\n",
    "X = np.array(['a', 'b', 'c', 'd', 'e', 'f'])\n",
    "\n",
    "kf = KFold(n_splits=3)\n",
    "\n",
    "for train, test in kf.split(X):\n",
    "    print('Train data', X[train], '| Test data', X[test])"
   ]
  },
  {
   "cell_type": "markdown",
   "metadata": {},
   "source": [
    "<h2 dir=rtl align=right style=\"line-height:200%;font-family:vazir;color:#0099cc\">\n",
    "<font face=\"vazir\" color=\"#0099cc\">\n",
    "روش Leave One Out\n",
    "</font>\n",
    "</h2>"
   ]
  },
  {
   "cell_type": "code",
   "execution_count": 3,
   "metadata": {},
   "outputs": [
    {
     "name": "stdout",
     "output_type": "stream",
     "text": [
      "Train data [ 20  30  40  50  60  70  80  90 100] | Test data [10]\n",
      "Train data [ 10  30  40  50  60  70  80  90 100] | Test data [20]\n",
      "Train data [ 10  20  40  50  60  70  80  90 100] | Test data [30]\n",
      "Train data [ 10  20  30  50  60  70  80  90 100] | Test data [40]\n",
      "Train data [ 10  20  30  40  60  70  80  90 100] | Test data [50]\n",
      "Train data [ 10  20  30  40  50  70  80  90 100] | Test data [60]\n",
      "Train data [ 10  20  30  40  50  60  80  90 100] | Test data [70]\n",
      "Train data [ 10  20  30  40  50  60  70  90 100] | Test data [80]\n",
      "Train data [ 10  20  30  40  50  60  70  80 100] | Test data [90]\n",
      "Train data [10 20 30 40 50 60 70 80 90] | Test data [100]\n"
     ]
    }
   ],
   "source": [
    "from sklearn.model_selection import LeaveOneOut\n",
    "\n",
    "X = np.array([10, 20, 30, 40, 50, 60, 70, 80, 90, 100])\n",
    "\n",
    "l = LeaveOneOut()\n",
    "\n",
    "for train, test in l.split(X):\n",
    "    print('Train data', X[train], '| Test data', X[test])"
   ]
  },
  {
   "cell_type": "markdown",
   "metadata": {},
   "source": [
    "<h2 dir=rtl align=right style=\"line-height:200%;font-family:vazir;color:#0099cc\">\n",
    "<font face=\"vazir\" color=\"#0099cc\">\n",
    "روش Stratified K-Fold\n",
    "</font>\n",
    "</h2>"
   ]
  },
  {
   "cell_type": "code",
   "execution_count": 4,
   "metadata": {},
   "outputs": [
    {
     "name": "stdout",
     "output_type": "stream",
     "text": [
      "Train: [1 3 4 5] | Test: [0 2]\n",
      "Train: [0 2 3 5] | Test: [1 4]\n",
      "Train: [0 1 2 4] | Test: [3 5]\n"
     ]
    }
   ],
   "source": [
    "from sklearn.model_selection import StratifiedKFold\n",
    "\n",
    "X = np.array([[1,2], [3,4], [5,6], [7,8], [9,10], [11,12]])\n",
    "y = np.array([0, 0, 1, 0, 1, 1])\n",
    "\n",
    "skf = StratifiedKFold(n_splits=3, random_state=None, shuffle=False)\n",
    "\n",
    "for train_index, test_index in skf.split(X,y):\n",
    "    print('Train:', train_index, '| Test:', test_index)\n",
    "    X_train, X_test = X[train_index], X[test_index]\n",
    "    y_train, y_test = y[train_index], y[test_index]"
   ]
  }
 ],
 "metadata": {
  "kernelspec": {
   "display_name": "Python 3.9.7 ('base')",
   "language": "python",
   "name": "python3"
  },
  "language_info": {
   "codemirror_mode": {
    "name": "ipython",
    "version": 3
   },
   "file_extension": ".py",
   "mimetype": "text/x-python",
   "name": "python",
   "nbconvert_exporter": "python",
   "pygments_lexer": "ipython3",
   "version": "3.9.7"
  },
  "orig_nbformat": 4,
  "vscode": {
   "interpreter": {
    "hash": "ad2bdc8ecc057115af97d19610ffacc2b4e99fae6737bb82f5d7fb13d2f2c186"
   }
  }
 },
 "nbformat": 4,
 "nbformat_minor": 2
}
